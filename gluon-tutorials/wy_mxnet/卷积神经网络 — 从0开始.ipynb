{
 "cells": [
  {
   "cell_type": "code",
   "execution_count": 1,
   "metadata": {},
   "outputs": [
    {
     "name": "stderr",
     "output_type": "stream",
     "text": [
      "/Users/macbook/anaconda3/lib/python3.6/site-packages/urllib3/contrib/pyopenssl.py:46: DeprecationWarning: OpenSSL.rand is deprecated - you should use os.urandom instead\n",
      "  import OpenSSL.SSL\n"
     ]
    }
   ],
   "source": [
    "from mxnet import nd"
   ]
  },
  {
   "cell_type": "code",
   "execution_count": 2,
   "metadata": {},
   "outputs": [
    {
     "name": "stdout",
     "output_type": "stream",
     "text": [
      "input: \n",
      "[[[[ 0.  1.  2.]\n",
      "   [ 3.  4.  5.]\n",
      "   [ 6.  7.  8.]]]]\n",
      "<NDArray 1x1x3x3 @cpu(0)> \n",
      "\n",
      " weight: \n",
      "[[[[ 0.  1.]\n",
      "   [ 2.  3.]]]]\n",
      "<NDArray 1x1x2x2 @cpu(0)> \n",
      "\n",
      " bias: \n",
      "[ 1.]\n",
      "<NDArray 1 @cpu(0)> \n",
      "\n",
      " output: \n",
      "[[[[ 20.  26.]\n",
      "   [ 38.  44.]]]]\n",
      "<NDArray 1x1x2x2 @cpu(0)>\n"
     ]
    }
   ],
   "source": [
    "w = nd.arange(4).reshape((1,1,2,2))\n",
    "b = nd.array([1])\n",
    "data = nd.arange(9).reshape((1,1,3,3))\n",
    "out = nd.Convolution(data, w, b, kernel=w.shape[2:], num_filter=w.shape[1])\n",
    "print('input:', data, '\\n\\n weight:', w, '\\n\\n bias:', b, '\\n\\n output:', out)"
   ]
  },
  {
   "cell_type": "code",
   "execution_count": 3,
   "metadata": {},
   "outputs": [
    {
     "name": "stdout",
     "output_type": "stream",
     "text": [
      "input: \n",
      "[[[[ 0.  1.  2.]\n",
      "   [ 3.  4.  5.]\n",
      "   [ 6.  7.  8.]]]]\n",
      "<NDArray 1x1x3x3 @cpu(0)> \n",
      "\n",
      " weight: \n",
      "[[[[ 0.  1.]\n",
      "   [ 2.  3.]]]]\n",
      "<NDArray 1x1x2x2 @cpu(0)> \n",
      "\n",
      " bias: \n",
      "[ 1.]\n",
      "<NDArray 1 @cpu(0)> \n",
      "\n",
      " output: \n",
      "[[[[  1.   9.]\n",
      "   [ 22.  44.]]]]\n",
      "<NDArray 1x1x2x2 @cpu(0)>\n"
     ]
    }
   ],
   "source": [
    "out = nd.Convolution(data, w, b, kernel=w.shape[2:],num_filter=w.shape[1], stride=(2,2), pad=(1,1))\n",
    "print('input:', data, '\\n\\n weight:', w, '\\n\\n bias:', b, '\\n\\n output:', out)"
   ]
  },
  {
   "cell_type": "code",
   "execution_count": 4,
   "metadata": {},
   "outputs": [
    {
     "data": {
      "text/plain": [
       "(1, 1, 2, 2)"
      ]
     },
     "execution_count": 4,
     "metadata": {},
     "output_type": "execute_result"
    }
   ],
   "source": [
    "w.shape"
   ]
  },
  {
   "cell_type": "code",
   "execution_count": 6,
   "metadata": {},
   "outputs": [
    {
     "data": {
      "text/plain": [
       "(2, 2)"
      ]
     },
     "execution_count": 6,
     "metadata": {},
     "output_type": "execute_result"
    }
   ],
   "source": [
    "w.shape[2:]"
   ]
  },
  {
   "cell_type": "code",
   "execution_count": 8,
   "metadata": {},
   "outputs": [
    {
     "data": {
      "text/plain": [
       "1"
      ]
     },
     "execution_count": 8,
     "metadata": {},
     "output_type": "execute_result"
    }
   ],
   "source": [
    "w.shape[1]"
   ]
  },
  {
   "cell_type": "code",
   "execution_count": 11,
   "metadata": {},
   "outputs": [
    {
     "name": "stdout",
     "output_type": "stream",
     "text": [
      "input: \n",
      "[[[[  0.   1.   2.]\n",
      "   [  3.   4.   5.]\n",
      "   [  6.   7.   8.]]\n",
      "\n",
      "  [[  9.  10.  11.]\n",
      "   [ 12.  13.  14.]\n",
      "   [ 15.  16.  17.]]]]\n",
      "<NDArray 1x2x3x3 @cpu(0)> \n",
      "\n",
      " weight: \n",
      "[[[[ 0.  1.]\n",
      "   [ 2.  3.]]\n",
      "\n",
      "  [[ 4.  5.]\n",
      "   [ 6.  7.]]]]\n",
      "<NDArray 1x2x2x2 @cpu(0)> \n",
      "\n",
      " bias: \n",
      "[ 1.]\n",
      "<NDArray 1 @cpu(0)> \n",
      "\n",
      " output: \n",
      "[[[[ 269.  297.]\n",
      "   [ 353.  381.]]]]\n",
      "<NDArray 1x1x2x2 @cpu(0)>\n"
     ]
    }
   ],
   "source": [
    "w = nd.arange(8).reshape((1,2,2,2))\n",
    "b = nd.array([1])\n",
    "data = nd.arange(18).reshape((1,2,3,3))\n",
    "out = nd.Convolution(data, w, b, kernel=w.shape[2:], num_filter=w.shape[0])\n",
    "print('input:', data, '\\n\\n weight:', w, '\\n\\n bias:', b, '\\n\\n output:', out)"
   ]
  },
  {
   "cell_type": "code",
   "execution_count": 12,
   "metadata": {},
   "outputs": [
    {
     "name": "stdout",
     "output_type": "stream",
     "text": [
      "input: \n",
      "[[[[  0.   1.   2.]\n",
      "   [  3.   4.   5.]\n",
      "   [  6.   7.   8.]]\n",
      "\n",
      "  [[  9.  10.  11.]\n",
      "   [ 12.  13.  14.]\n",
      "   [ 15.  16.  17.]]]]\n",
      "<NDArray 1x2x3x3 @cpu(0)> \n",
      "\n",
      "weight: \n",
      "[[[[  0.   1.]\n",
      "   [  2.   3.]]\n",
      "\n",
      "  [[  4.   5.]\n",
      "   [  6.   7.]]]\n",
      "\n",
      "\n",
      " [[[  8.   9.]\n",
      "   [ 10.  11.]]\n",
      "\n",
      "  [[ 12.  13.]\n",
      "   [ 14.  15.]]]]\n",
      "<NDArray 2x2x2x2 @cpu(0)> \n",
      "\n",
      "bias: \n",
      "[ 1.  2.]\n",
      "<NDArray 2 @cpu(0)> \n",
      "\n",
      "output: \n",
      "[[[[  269.   297.]\n",
      "   [  353.   381.]]\n",
      "\n",
      "  [[  686.   778.]\n",
      "   [  962.  1054.]]]]\n",
      "<NDArray 1x2x2x2 @cpu(0)>\n"
     ]
    }
   ],
   "source": [
    "w = nd.arange(16).reshape((2,2,2,2))\n",
    "data = nd.arange(18).reshape((1,2,3,3))\n",
    "b = nd.array([1,2])\n",
    "\n",
    "out = nd.Convolution(data, w, b, kernel=w.shape[2:], num_filter=w.shape[0])\n",
    "\n",
    "print('input:', data, '\\n\\nweight:', w, '\\n\\nbias:', b, '\\n\\noutput:', out)\n"
   ]
  },
  {
   "cell_type": "code",
   "execution_count": 13,
   "metadata": {},
   "outputs": [
    {
     "name": "stdout",
     "output_type": "stream",
     "text": [
      "data: \n",
      "[[[[  0.   1.   2.]\n",
      "   [  3.   4.   5.]\n",
      "   [  6.   7.   8.]]\n",
      "\n",
      "  [[  9.  10.  11.]\n",
      "   [ 12.  13.  14.]\n",
      "   [ 15.  16.  17.]]]]\n",
      "<NDArray 1x2x3x3 @cpu(0)> \n",
      "\n",
      "max pooling: \n",
      "[[[[  4.   5.]\n",
      "   [  7.   8.]]\n",
      "\n",
      "  [[ 13.  14.]\n",
      "   [ 16.  17.]]]]\n",
      "<NDArray 1x2x2x2 @cpu(0)> \n",
      "\n",
      "avg pooling: \n",
      "[[[[  2.   3.]\n",
      "   [  5.   6.]]\n",
      "\n",
      "  [[ 11.  12.]\n",
      "   [ 14.  15.]]]]\n",
      "<NDArray 1x2x2x2 @cpu(0)>\n"
     ]
    }
   ],
   "source": [
    "data = nd.arange(18).reshape((1,2,3,3))\n",
    "\n",
    "max_pool = nd.Pooling(data=data, pool_type=\"max\", kernel=(2,2))\n",
    "avg_pool = nd.Pooling(data=data, pool_type=\"avg\", kernel=(2,2))\n",
    "\n",
    "print('data:', data, '\\n\\nmax pooling:', max_pool, '\\n\\navg pooling:', avg_pool)\n"
   ]
  },
  {
   "cell_type": "code",
   "execution_count": 15,
   "metadata": {},
   "outputs": [],
   "source": [
    "import sys\n",
    "sys.path.append('..')\n",
    "from utils import load_data_fashion_mnist"
   ]
  },
  {
   "cell_type": "code",
   "execution_count": 16,
   "metadata": {},
   "outputs": [
    {
     "name": "stdout",
     "output_type": "stream",
     "text": [
      "Downloading /Users/macbook/.mxnet/datasets/fashion-mnist/train-images-idx3-ubyte.gz from https://apache-mxnet.s3-accelerate.dualstack.amazonaws.com/gluon/dataset/fashion-mnist/train-images-idx3-ubyte.gz...\n",
      "Downloading /Users/macbook/.mxnet/datasets/fashion-mnist/train-labels-idx1-ubyte.gz from https://apache-mxnet.s3-accelerate.dualstack.amazonaws.com/gluon/dataset/fashion-mnist/train-labels-idx1-ubyte.gz...\n",
      "Downloading /Users/macbook/.mxnet/datasets/fashion-mnist/t10k-images-idx3-ubyte.gz from https://apache-mxnet.s3-accelerate.dualstack.amazonaws.com/gluon/dataset/fashion-mnist/t10k-images-idx3-ubyte.gz...\n",
      "Downloading /Users/macbook/.mxnet/datasets/fashion-mnist/t10k-labels-idx1-ubyte.gz from https://apache-mxnet.s3-accelerate.dualstack.amazonaws.com/gluon/dataset/fashion-mnist/t10k-labels-idx1-ubyte.gz...\n"
     ]
    }
   ],
   "source": [
    "batch_size = 256\n",
    "train_data, test_data = load_data_fashion_mnist(batch_size)"
   ]
  },
  {
   "cell_type": "code",
   "execution_count": 17,
   "metadata": {},
   "outputs": [
    {
     "data": {
      "text/plain": [
       "cpu(0)"
      ]
     },
     "execution_count": 17,
     "metadata": {},
     "output_type": "execute_result"
    }
   ],
   "source": [
    "import mxnet as mx\n",
    "\n",
    "try:\n",
    "    ctx = mx.gpu()\n",
    "    _ = nd.zeros((1,), ctx=ctx)\n",
    "except:\n",
    "    ctx = mx.cpu()\n",
    "ctx"
   ]
  },
  {
   "cell_type": "code",
   "execution_count": 18,
   "metadata": {
    "collapsed": true
   },
   "outputs": [],
   "source": [
    "weight_scale = .01\n",
    "W1 = nd.random_normal(shape=(20,1,5,5), scale=weight_scale, ctx=ctx)\n",
    "b1 = nd.zeros(W1.shape[0], ctx=ctx)\n",
    "\n",
    "W2 = nd.random_normal(shape=(50,20,3,3), scale=weight_scale, ctx=ctx)\n",
    "b2 = nd.zeros(W2.shape[0], ctx=ctx)\n",
    "\n",
    "W3 = nd.random_normal(shape=(1250,128), scale=weight_scale, ctx=ctx)\n",
    "b3 = nd.zeros(W3.shape[1], ctx=ctx)\n",
    "\n",
    "W4 = nd.random_normal(shape=(W3.shape[1],10), scale=weight_scale, ctx=ctx)\n",
    "b4 = nd.zeros(W4.shape[1], ctx=ctx)\n",
    "\n",
    "params = [W1, b1, W2, b2, W3, b3, W4, b4]\n",
    "for param in params:\n",
    "    param.attach_grad()\n",
    "\n",
    "\n"
   ]
  },
  {
   "cell_type": "code",
   "execution_count": 21,
   "metadata": {
    "collapsed": true
   },
   "outputs": [],
   "source": [
    "def net(X, verbose=False):\n",
    "    X = X.as_in_context(W1.context)\n",
    "    # first conv\n",
    "    h1_conv = nd.Convolution(\n",
    "        data = X, weight=W1, bias=b1, kernel=W1.shape[2:], num_filter=W1.shape[0])\n",
    "    h1_activation = nd.relu(h1_conv)\n",
    "    h1 = nd.Pooling(\n",
    "        data = h1_activation, pool_type='max', kernel=(2,2), stride=(2,2))\n",
    "    # second conv\n",
    "    h2_conv = nd.Convolution(\n",
    "        data = h1, weight=W2, bias=b2, kernel=W2.shape[2:], num_filter=W2.shape[0])\n",
    "    h2_activation = nd.relu(h2_conv)\n",
    "    h2 = nd.Pooling(\n",
    "        data = h2_activation, pool_type='max', kernel=(2,2), stride=(2,2))\n",
    "    h2 = nd.flatten(h2)\n",
    "    # first dense\n",
    "    h3_linear = nd.dot(h2, W3) + b3\n",
    "    h3 = nd.relu(h3_linear)\n",
    "    # second dense\n",
    "    h4_linear = nd.dot(h3, W4) + b4\n",
    "    if verbose:\n",
    "        print('1st conv block:', h1.shape)\n",
    "        print('2nd conv block:', h2.shape)\n",
    "        print('1st dense:', h3.shape)\n",
    "        print('2nd dense:', h4_linear.shape)\n",
    "        print('output:', h4_linear)\n",
    "    return h4_linear\n"
   ]
  },
  {
   "cell_type": "code",
   "execution_count": 22,
   "metadata": {},
   "outputs": [
    {
     "name": "stdout",
     "output_type": "stream",
     "text": [
      "1st conv block: (256, 20, 12, 12)\n",
      "2nd conv block: (256, 1250)\n",
      "1st dense: (256, 128)\n",
      "2nd dense: (256, 10)\n",
      "output: \n",
      "[[  1.47865467e-06  -2.81311441e-05  -5.06756151e-05 ...,   5.70762677e-05\n",
      "   -8.42777154e-05   1.18620104e-04]\n",
      " [  6.79374352e-07   9.45711417e-06  -1.47839291e-05 ...,   4.50750558e-05\n",
      "   -7.05736384e-05  -8.06472781e-06]\n",
      " [ -2.89115542e-05  -6.41923689e-05  -4.00484641e-05 ...,   7.97795728e-05\n",
      "   -3.52358693e-05  -1.31978359e-05]\n",
      " ..., \n",
      " [ -4.08909909e-06  -4.77952271e-05  -7.70536062e-05 ...,   6.44869069e-05\n",
      "   -7.85614757e-05   1.46877923e-04]\n",
      " [ -6.58104473e-05  -9.54745246e-06  -2.26690936e-05 ...,   7.21471806e-05\n",
      "   -3.71760871e-05   8.06900280e-05]\n",
      " [ -6.51315349e-05  -6.66000560e-05  -4.94176784e-05 ...,   9.92949281e-05\n",
      "   -4.79809896e-05   6.53801180e-05]]\n",
      "<NDArray 256x10 @cpu(0)>\n"
     ]
    }
   ],
   "source": [
    "for data, _ in train_data:\n",
    "    net(data, verbose=True)\n",
    "    break"
   ]
  },
  {
   "cell_type": "code",
   "execution_count": 23,
   "metadata": {
    "collapsed": true
   },
   "outputs": [],
   "source": [
    "from mxnet import autograd as autograd\n",
    "from utils import SGD, accuracy, evaluate_accuracy\n",
    "from mxnet import gluon"
   ]
  },
  {
   "cell_type": "code",
   "execution_count": 24,
   "metadata": {
    "collapsed": true
   },
   "outputs": [],
   "source": [
    "softmax_cross_entropy = gluon.loss.SoftmaxCrossEntropyLoss()\n",
    "\n",
    "learning_rate = .2\n"
   ]
  },
  {
   "cell_type": "code",
   "execution_count": 25,
   "metadata": {},
   "outputs": [
    {
     "name": "stdout",
     "output_type": "stream",
     "text": [
      "Epoch 0. Loss: 2.302429, Train acc 0.099860, Test acc 0.099960\n",
      "Epoch 1. Loss: 1.485964, Train acc 0.435513, Test acc 0.686298\n",
      "Epoch 2. Loss: 0.666411, Train acc 0.742872, Test acc 0.795272\n",
      "Epoch 3. Loss: 0.518422, Train acc 0.805355, Test acc 0.779948\n",
      "Epoch 4. Loss: 0.450925, Train acc 0.832365, Test acc 0.831030\n"
     ]
    }
   ],
   "source": [
    "for epoch in range(5):\n",
    "    train_loss = 0.\n",
    "    train_acc = 0.\n",
    "    for data, label in train_data:\n",
    "        label = label.as_in_context(ctx)\n",
    "        with autograd.record():\n",
    "            output = net(data)\n",
    "            loss = softmax_cross_entropy(output, label)\n",
    "        loss.backward()\n",
    "        SGD(params, learning_rate/batch_size)\n",
    "\n",
    "        train_loss += nd.mean(loss).asscalar()\n",
    "        train_acc += accuracy(output, label)\n",
    "\n",
    "    test_acc = evaluate_accuracy(test_data, net, ctx)\n",
    "    print(\"Epoch %d. Loss: %f, Train acc %f, Test acc %f\" % (\n",
    "        epoch, train_loss/len(train_data),\n",
    "        train_acc/len(train_data), test_acc))\n"
   ]
  },
  {
   "cell_type": "markdown",
   "metadata": {},
   "source": [
    "卷积神经网络 — 使用Gluon"
   ]
  },
  {
   "cell_type": "code",
   "execution_count": 26,
   "metadata": {
    "collapsed": true
   },
   "outputs": [],
   "source": [
    "from mxnet.gluon import nn"
   ]
  },
  {
   "cell_type": "code",
   "execution_count": 27,
   "metadata": {
    "collapsed": true
   },
   "outputs": [],
   "source": [
    "net = nn.Sequential()\n",
    "with net.name_scope():\n",
    "    net.add(\n",
    "        nn.Conv2D(channels=20, kernel_size=5, activation='relu'),\n",
    "        nn.MaxPool2D(pool_size=2, strides=2),\n",
    "        nn.Conv2D(channels=50, kernel_size=3, activation='relu'),\n",
    "        nn.MaxPool2D(pool_size=2, strides=2),\n",
    "        nn.Flatten(),\n",
    "        nn.Dense(128, activation='relu'),\n",
    "        nn.Dense(10)\n",
    "    )\n",
    "    "
   ]
  },
  {
   "cell_type": "code",
   "execution_count": 28,
   "metadata": {},
   "outputs": [
    {
     "name": "stdout",
     "output_type": "stream",
     "text": [
      "initialize weight on cpu(0)\n",
      "Start training on  cpu(0)\n",
      "Epoch 0. Loss: 1.085, Train acc 0.59, Test acc 0.79, Time 43.2 sec\n",
      "Epoch 1. Loss: 0.484, Train acc 0.82, Test acc 0.86, Time 42.4 sec\n",
      "Epoch 2. Loss: 0.390, Train acc 0.86, Test acc 0.85, Time 41.2 sec\n",
      "Epoch 3. Loss: 0.348, Train acc 0.87, Test acc 0.87, Time 41.1 sec\n",
      "Epoch 4. Loss: 0.325, Train acc 0.88, Test acc 0.88, Time 41.3 sec\n"
     ]
    }
   ],
   "source": [
    "\n",
    "from mxnet import gluon\n",
    "import sys\n",
    "sys.path.append('..')\n",
    "import utils\n",
    "\n",
    "# 初始化\n",
    "ctx = utils.try_gpu()\n",
    "net.initialize(ctx=ctx)\n",
    "print('initialize weight on', ctx)\n",
    "\n",
    "# 获取数据\n",
    "batch_size = 256\n",
    "train_data, test_data = utils.load_data_fashion_mnist(batch_size)\n",
    "\n",
    "# 训练\n",
    "loss = gluon.loss.SoftmaxCrossEntropyLoss()\n",
    "trainer = gluon.Trainer(net.collect_params(),\n",
    "                        'sgd', {'learning_rate': 0.5})\n",
    "utils.train(train_data, test_data, net, loss,\n",
    "            trainer, ctx, num_epochs=5)\n"
   ]
  },
  {
   "cell_type": "code",
   "execution_count": null,
   "metadata": {
    "collapsed": true
   },
   "outputs": [],
   "source": []
  }
 ],
 "metadata": {
  "kernelspec": {
   "display_name": "Python 3",
   "language": "python",
   "name": "python3"
  },
  "language_info": {
   "codemirror_mode": {
    "name": "ipython",
    "version": 3
   },
   "file_extension": ".py",
   "mimetype": "text/x-python",
   "name": "python",
   "nbconvert_exporter": "python",
   "pygments_lexer": "ipython3",
   "version": "3.6.3"
  }
 },
 "nbformat": 4,
 "nbformat_minor": 2
}
